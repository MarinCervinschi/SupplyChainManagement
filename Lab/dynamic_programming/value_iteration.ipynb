{
 "cells": [
  {
   "cell_type": "code",
   "execution_count": 1,
   "id": "0a75462e-b02b-4d3d-826e-dc15440e371f",
   "metadata": {},
   "outputs": [],
   "source": [
    "import numpy as np\n",
    "import matplotlib.pyplot as plt"
   ]
  },
  {
   "cell_type": "code",
   "execution_count": 2,
   "id": "22f7632b-03fa-45d0-90ad-9f6bcb32147a",
   "metadata": {},
   "outputs": [],
   "source": [
    "def is_terminal(state, grid_size=4):\n",
    "    terminal_states = ((0, 0), (grid_size - 1, grid_size - 1))\n",
    "    return state in terminal_states\n",
    "\n",
    "def step(state, action, grid_size=4):\n",
    "    \"\"\"\n",
    "    Returns next state and reward given a current state and an action.\n",
    "    \"\"\"\n",
    "\n",
    "\n",
    "    if is_terminal(state, grid_size=grid_size):\n",
    "        return state, 0\n",
    "    \n",
    "    x, y = state\n",
    "    dx, dy = action\n",
    "    x = np.clip(x + dx, 0, grid_size - 1)\n",
    "    y = np.clip(y + dy, 0, grid_size - 1)\n",
    "    state = (x, y)\n",
    "    \n",
    "    return state, -1"
   ]
  },
  {
   "cell_type": "markdown",
   "id": "d9ef22fb-cba5-4f04-b04d-d7266e10ed11",
   "metadata": {},
   "source": [
    "### Plot functions"
   ]
  },
  {
   "cell_type": "code",
   "execution_count": 3,
   "id": "b60a4a5b-e368-4943-aa78-fc2b8aa4f58a",
   "metadata": {},
   "outputs": [],
   "source": [
    "def plot_policy(policy, grid_size=4):\n",
    "    \"\"\"\n",
    "    Plots a given policy\n",
    "    \"\"\"\n",
    "\n",
    "    fig, ax = plt.subplots(figsize=(5, 5))\n",
    "    ax.set_xlim(-0.5, grid_size - 0.5)\n",
    "    ax.set_ylim(-0.5, grid_size - 0.5)\n",
    "    ax.set_xticks(np.arange(grid_size))\n",
    "    ax.set_yticks(np.arange(grid_size))\n",
    "    ax.set_xticks(np.arange(grid_size) - 0.5, minor=True)\n",
    "    ax.set_yticks(np.arange(grid_size) - 0.5, minor=True)\n",
    "    ax.grid(which='minor', color='black', linestyle='-', linewidth=3)\n",
    "    ax.tick_params(which='both', bottom=False, left=False, labelbottom=False, labelleft=False)\n",
    "    \n",
    "    action_arrows = {(-1, 0): \"↑\", (1, 0): \"↓\", (0, -1): \"←\", (0, 1): \"→\"}\n",
    "    for i in range(grid_size):\n",
    "        for j in range(grid_size):\n",
    "            if is_terminal((i, j), grid_size=grid_size):\n",
    "                ax.text(j, grid_size - 1 - i, \"T\", ha='center', va='center', fontsize=20, fontweight='bold')\n",
    "            else:\n",
    "                action = policy[i, j]\n",
    "                if action:\n",
    "                    ax.text(j, grid_size - 1 - i, action_arrows[action], ha='center', va='center', fontsize=20)\n",
    "\n",
    "    plt.title(f\"Optimal policy\")\n",
    "    plt.show()\n",
    "\n",
    "\n",
    "def plot_value_function(V, size=4):\n",
    "    plt.figure(figsize=(6, 6))\n",
    "    plt.imshow(V, cmap='coolwarm', interpolation='nearest')\n",
    "    for i in range(size):\n",
    "        for j in range(size):\n",
    "            plt.text(j, i, f\"{V[i, j]:.1f}\", ha='center', va='center', color='black')\n",
    "    plt.title(f\"Optimal Value Function\")\n",
    "    plt.show()"
   ]
  },
  {
   "cell_type": "markdown",
   "id": "e62d12d5-5a9f-4133-bb7c-aa2db978949c",
   "metadata": {},
   "source": [
    "# Value Iteration"
   ]
  },
  {
   "cell_type": "code",
   "execution_count": 4,
   "id": "a4c6b317-3eac-45cb-b6c5-cd459c1797fb",
   "metadata": {},
   "outputs": [
    {
     "data": {
      "image/png": "[encoded data removed]",
      "text/plain": [
       "<Figure size 600x600 with 1 Axes>"
      ]
     },
     "metadata": {},
     "output_type": "display_data"
    }
   ],
   "source": [
    "def value_iteration(grid_size=4, gamma=1.0, theta=1e-6):\n",
    "    V = np.zeros((grid_size, grid_size))\n",
    "    actions = (\n",
    "        (-1, 0),  # UP\n",
    "        (1, 0),   # DOWN\n",
    "        (0, -1),  # LEFT\n",
    "        (0, 1)    # RIGHT\n",
    "    )\n",
    "    reward = -1\n",
    "    \n",
    "    while True:\n",
    "        delta = 0\n",
    "        new_V = np.copy(V)\n",
    "        \n",
    "        for i in range(grid_size):\n",
    "            for j in range(grid_size):\n",
    "                state = (i, j)\n",
    "                \n",
    "                if is_terminal(state, grid_size=grid_size):\n",
    "                    continue\n",
    "                \n",
    "                v_values = []\n",
    "                for di, dj in actions:\n",
    "                    ni, nj = i + di, j + dj\n",
    "                    if 0 <= ni < grid_size and 0 <= nj < grid_size:\n",
    "                        v_values.append(reward + gamma * V[ni, nj])\n",
    "                    else:\n",
    "                        v_values.append(reward + gamma * V[i, j])\n",
    "                \n",
    "                new_V[i, j] = max(v_values)\n",
    "                delta = max(delta, abs(V[i, j] - new_V[i, j]))\n",
    "        \n",
    "        V = new_V\n",
    "        if delta < theta:\n",
    "            break\n",
    "    \n",
    "    return V\n",
    "\n",
    "\n",
    "optimal_value_function = value_iteration()\n",
    "plot_value_function(optimal_value_function)"
   ]
  },
  {
   "cell_type": "markdown",
   "id": "94cac047-0a2b-4b96-9a28-b8173d35b7f1",
   "metadata": {},
   "source": [
    "# Recover the optimal policy from the optimal value function"
   ]
  },
  {
   "cell_type": "code",
   "execution_count": 5,
   "id": "7e8d6ad8-2dad-4d32-a0df-ac2ee435a2b2",
   "metadata": {},
   "outputs": [],
   "source": [
    "def recover_policy(state_value_function, grid_size=4, gamma=1.0):\n",
    "    \"\"\"\n",
    "    Recovers a deterministic policy given a state value function.\n",
    "    \"\"\"\n",
    "\n",
    "    actions = (\n",
    "        (-1, 0),  # UP\n",
    "        (1, 0),   # DOWN\n",
    "        (0, -1),  # LEFT\n",
    "        (0, 1)    # RIGHT\n",
    "    )\n",
    "\n",
    "    policy = np.full((grid_size, grid_size), None)\n",
    "    for i in range(grid_size):\n",
    "        for j in range(grid_size):\n",
    "            if is_terminal((i, j), grid_size=grid_size):\n",
    "                continue\n",
    "            \n",
    "            best_action = None\n",
    "            best_value = float('-inf')\n",
    "            for action in actions:\n",
    "                next_state, reward = step((i, j), action)\n",
    "                value = reward + gamma * state_value_function[next_state]\n",
    "                if value > best_value:\n",
    "                    best_value = value\n",
    "                    best_action = action\n",
    "            \n",
    "            policy[i, j] = best_action\n",
    "    \n",
    "    return policy"
   ]
  },
  {
   "cell_type": "code",
   "execution_count": 6,
   "id": "92fb49d9-117e-441b-8120-435baae67c79",
   "metadata": {},
   "outputs": [],
   "source": [
    "optimal_policy = recover_policy(optimal_value_function)"
   ]
  },
  {
   "cell_type": "code",
   "execution_count": 7,
   "id": "50368af7-a3dc-48ea-b7a6-e7de811eb548",
   "metadata": {},
   "outputs": [
    {
     "data": {
      "image/png": "[encoded data removed]",
      "text/plain": [
       "<Figure size 500x500 with 1 Axes>"
      ]
     },
     "metadata": {},
     "output_type": "display_data"
    }
   ],
   "source": [
    "plot_policy(optimal_policy)"
   ]
  }
 ],
 "metadata": {
  "kernelspec": {
   "display_name": "Python 3 (ipykernel)",
   "language": "python",
   "name": "python3"
  },
  "language_info": {
   "codemirror_mode": {
    "name": "ipython",
    "version": 3
   },
   "file_extension": ".py",
   "mimetype": "text/x-python",
   "name": "python",
   "nbconvert_exporter": "python",
   "pygments_lexer": "ipython3",
   "version": "3.12.6"
  }
 },
 "nbformat": 4,
 "nbformat_minor": 5
}
