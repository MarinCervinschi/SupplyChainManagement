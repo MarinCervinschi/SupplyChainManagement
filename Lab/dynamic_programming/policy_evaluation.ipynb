{
 "cells": [
  {
   "cell_type": "code",
   "execution_count": 1,
   "id": "c3fde319-8355-410e-a7a3-a96840174543",
   "metadata": {},
   "outputs": [],
   "source": [
    "import numpy as np\n",
    "import matplotlib.pyplot as plt"
   ]
  },
  {
   "cell_type": "code",
   "execution_count": 2,
   "id": "b5a523f8-d351-476c-95ec-54de3072967a",
   "metadata": {},
   "outputs": [],
   "source": [
    "# Action Space\n",
    "actions = (\n",
    "    (-1, 0),  # UP\n",
    "    (1, 0),   # DOWN\n",
    "    (0, -1),  # LEFT\n",
    "    (0, 1)    # RIGHT\n",
    ")\n",
    "\n",
    "def is_terminal(state, grid_size=4):\n",
    "    return state in ((0, 0), (grid_size - 1, grid_size - 1))\n",
    "\n",
    "\n",
    "def step(state, action, grid_size=4, reward=-1):\n",
    "    \"\"\"\n",
    "    Returns next state and reward given a current state and an action.\n",
    "    \"\"\"\n",
    "    \n",
    "    if is_terminal(state, grid_size=grid_size):\n",
    "        return state, 0\n",
    "    \n",
    "    x, y = state\n",
    "    dx, dy = action\n",
    "    x = np.clip(x + dx, 0, grid_size - 1)\n",
    "    y = np.clip(y + dy, 0, grid_size - 1)\n",
    "    state = (x, y)\n",
    "    \n",
    "    return state, reward"
   ]
  },
  {
   "cell_type": "markdown",
   "id": "b1e54699-736e-435e-b68f-1204b70f02b3",
   "metadata": {},
   "source": [
    "# Policy Evaluation Loop"
   ]
  },
  {
   "cell_type": "markdown",
   "id": "03a3c291-685c-46fe-9003-c962f604e7e9",
   "metadata": {},
   "source": [
    "## Bellman Expectation Equation\n",
    "$$V_{k+1}(s) = \\sum_{a \\in A}{\\pi(a|s)} \\left[ R(s, a) + \\gamma \\sum_{s^{'} \\in S} P(s'|s, a) V_{k}(s^{'}) \\right]$$"
   ]
  },
  {
   "cell_type": "code",
   "execution_count": 3,
   "id": "b74973f2-901e-4f55-b72c-9af8b289413d",
   "metadata": {},
   "outputs": [],
   "source": [
    "def policy_evaluation(actions, reward=-1, gamma=1.0, grid_size=4, theta=1e-4):\n",
    "    \"\"\"\n",
    "    Runs a policy evaluation iteration.\n",
    "    Epsilon-convergence is used to halt iterations.\n",
    "    \"\"\"\n",
    "\n",
    "    # Initialize state value function to all zeros\n",
    "    state_value_function = np.zeros((grid_size, grid_size))\n",
    "    \n",
    "    while True:\n",
    "        delta = 0\n",
    "\n",
    "        # synch backup\n",
    "        new_state_value_function = np.copy(state_value_function)\n",
    "        \n",
    "        for i in range(grid_size):\n",
    "            for j in range(grid_size):\n",
    "                state = (i, j)\n",
    "                \n",
    "                if is_terminal(state, grid_size=grid_size):\n",
    "                    continue\n",
    "                \n",
    "                # evaluate all possible actions from current state\n",
    "                # i.e. policy: uniform random policy\n",
    "                state_value = 0\n",
    "                for action in actions:\n",
    "                    next_state, reward = step(state, action, grid_size=grid_size, reward=reward)\n",
    "\n",
    "                    # Uniform random policy: π = 1/|A|, for all actions\n",
    "                    # Bellman expectation equation\n",
    "                    state_value += (1 / len(actions)) * (reward + gamma * state_value_function[next_state])\n",
    "                \n",
    "                new_state_value_function[i, j] = state_value\n",
    "\n",
    "                # how much we improved\n",
    "                delta = max(delta, abs(state_value_function[i, j] - state_value))\n",
    "        \n",
    "        state_value_function = new_state_value_function\n",
    "        \n",
    "        if delta < theta:\n",
    "            break\n",
    "\n",
    "    return state_value_function\n",
    "\n",
    "\n",
    "def recover_greedy_policy(state_value_function, gamma=1.0):\n",
    "    \"\"\"\n",
    "    Recovers a deterministic policy given a state value function.\n",
    "    \"\"\"\n",
    "\n",
    "    grid_size = state_value_function.shape[0]\n",
    "    \n",
    "    policy = np.full((grid_size, grid_size), None)\n",
    "    for i in range(grid_size):\n",
    "        for j in range(grid_size):\n",
    "            if is_terminal((i, j)):\n",
    "                continue\n",
    "            \n",
    "            best_action = None\n",
    "            best_value = float('-inf')\n",
    "            for action in actions:\n",
    "                next_state, reward = step((i, j), action)\n",
    "                value = reward + gamma * state_value_function[next_state]\n",
    "                if value > best_value:\n",
    "                    best_value = value\n",
    "                    best_action = action\n",
    "            \n",
    "            policy[i, j] = best_action\n",
    "    \n",
    "    return policy"
   ]
  },
  {
   "cell_type": "markdown",
   "id": "3fccbcbb-5697-4a20-a7c6-51b673e1e016",
   "metadata": {
    "jp-MarkdownHeadingCollapsed": true
   },
   "source": [
    "### Plot functions"
   ]
  },
  {
   "cell_type": "code",
   "execution_count": 4,
   "id": "cb5d97c1-a3ae-46fc-92ff-34b20ac9a5d8",
   "metadata": {},
   "outputs": [],
   "source": [
    "def plot_value_function(V, size=4):\n",
    "    plt.figure(figsize=(6, 6))\n",
    "    plt.imshow(V, cmap='coolwarm', interpolation='nearest')\n",
    "    for i in range(size):\n",
    "        for j in range(size):\n",
    "            plt.text(j, i, f\"{V[i, j]:.1f}\", ha='center', va='center', color='black')\n",
    "    plt.title(f\"State Value Function of Random Uniform Policy\")\n",
    "    plt.show()\n",
    "\n",
    "\n",
    "def plot_policy(policy):\n",
    "    \"\"\"\n",
    "    Plots a given policy\n",
    "    \"\"\"\n",
    "\n",
    "    grid_size = policy.shape[0]\n",
    "    \n",
    "    fig, ax = plt.subplots(figsize=(5, 5))\n",
    "    ax.set_xlim(-0.5, grid_size - 0.5)\n",
    "    ax.set_ylim(-0.5, grid_size - 0.5)\n",
    "    ax.set_xticks(np.arange(grid_size))\n",
    "    ax.set_yticks(np.arange(grid_size))\n",
    "    ax.set_xticks(np.arange(grid_size) - 0.5, minor=True)\n",
    "    ax.set_yticks(np.arange(grid_size) - 0.5, minor=True)\n",
    "    ax.grid(which='minor', color='black', linestyle='-', linewidth=3)\n",
    "    ax.tick_params(which='both', bottom=False, left=False, labelbottom=False, labelleft=False)\n",
    "    \n",
    "    action_arrows = {(-1, 0): \"↑\", (1, 0): \"↓\", (0, -1): \"←\", (0, 1): \"→\"}\n",
    "    for i in range(grid_size):\n",
    "        for j in range(grid_size):\n",
    "            if is_terminal((i, j)):\n",
    "                ax.text(j, grid_size - 1 - i, \"T\", ha='center', va='center', fontsize=20, fontweight='bold')\n",
    "            else:\n",
    "                action = policy[i, j]\n",
    "                if action:\n",
    "                    ax.text(j, grid_size - 1 - i, action_arrows[action], ha='center', va='center', fontsize=20)\n",
    "\n",
    "    plt.title(f\"Greedy policy improvement\")\n",
    "    plt.show()"
   ]
  },
  {
   "cell_type": "markdown",
   "id": "2a9787c5-b498-4911-b423-f492245cf5b7",
   "metadata": {},
   "source": [
    "# Policy Evaluation step\n",
    "\n",
    "Given the random uniform policy, recover the corresponding state value function."
   ]
  },
  {
   "cell_type": "code",
   "execution_count": 5,
   "id": "da6fe466-d4fc-4c12-a71c-b02e8a4b063a",
   "metadata": {},
   "outputs": [
    {
     "data": {
      "image/png": "[encoded data removed]",
      "text/plain": [
       "<Figure size 600x600 with 1 Axes>"
      ]
     },
     "metadata": {},
     "output_type": "display_data"
    }
   ],
   "source": [
    "state_value_function = policy_evaluation(actions)\n",
    "plot_value_function(state_value_function)"
   ]
  },
  {
   "cell_type": "markdown",
   "id": "7211055b-ff56-472c-af81-904ff4fd26b1",
   "metadata": {},
   "source": [
    "# Greedy Policy Improvement\n",
    "\n",
    "Let's do one step of greedy (deterministic) policy improvement from the recovered state value function.\n",
    "The new policy (in this special example) will be the optimal (deterministic) policy."
   ]
  },
  {
   "cell_type": "code",
   "execution_count": 6,
   "id": "5bc15d40-d63e-432f-a656-fb286950ad5b",
   "metadata": {},
   "outputs": [
    {
     "data": {
      "image/png": "[encoded data removed]",
      "text/plain": [
       "<Figure size 500x500 with 1 Axes>"
      ]
     },
     "metadata": {},
     "output_type": "display_data"
    }
   ],
   "source": [
    "new_greedy_policy = recover_greedy_policy(state_value_function)\n",
    "plot_policy(new_greedy_policy)"
   ]
  }
 ],
 "metadata": {
  "kernelspec": {
   "display_name": "Python 3 (ipykernel)",
   "language": "python",
   "name": "python3"
  },
  "language_info": {
   "codemirror_mode": {
    "name": "ipython",
    "version": 3
   },
   "file_extension": ".py",
   "mimetype": "text/x-python",
   "name": "python",
   "nbconvert_exporter": "python",
   "pygments_lexer": "ipython3",
   "version": "3.12.6"
  }
 },
 "nbformat": 4,
 "nbformat_minor": 5
}
