{
 "cells": [
  {
   "cell_type": "code",
   "execution_count": 1,
   "id": "91f8c5f5-f8f2-4bf1-b20b-65bad1ecdd12",
   "metadata": {},
   "outputs": [],
   "source": [
    "import numpy as np\n",
    "import matplotlib.pyplot as plt"
   ]
  },
  {
   "cell_type": "code",
   "execution_count": 2,
   "id": "3c1fdee3-e931-4e6d-a3f3-56460f87d467",
   "metadata": {},
   "outputs": [],
   "source": [
    "def is_terminal(state, grid_size=4):\n",
    "    return state in ((0, 0), (grid_size - 1, grid_size - 1))\n",
    "\n",
    "\n",
    "def step(state, action, grid_size=4):\n",
    "    \"\"\"\n",
    "    Returns next state and reward given a current state and an action.\n",
    "    \"\"\"\n",
    "    \n",
    "    if is_terminal(state, grid_size=grid_size):\n",
    "        return state, 0\n",
    "    \n",
    "    x, y = state\n",
    "    dx, dy = action\n",
    "    x = np.clip(x + dx, 0, grid_size - 1)\n",
    "    y = np.clip(y + dy, 0, grid_size - 1)\n",
    "    new_state = (x, y)\n",
    "    \n",
    "    return new_state, -1"
   ]
  },
  {
   "cell_type": "markdown",
   "id": "b000008d-0675-4958-a731-07fb67e31b1c",
   "metadata": {},
   "source": [
    "# Policy Evaluation"
   ]
  },
  {
   "cell_type": "code",
   "execution_count": 3,
   "id": "0d75725e-5970-43e9-8b27-c245e422baea",
   "metadata": {},
   "outputs": [],
   "source": [
    "def policy_evaluation(policy, V, gamma, theta, grid_size):\n",
    "    \"\"\"\n",
    "    Policy Evaluation Loop\n",
    "    \"\"\"\n",
    "    \n",
    "    while True:\n",
    "        delta = 0\n",
    "        new_V = np.copy(V)\n",
    "        \n",
    "        for i in range(grid_size):\n",
    "            for j in range(grid_size):\n",
    "                state = (i, j)\n",
    "                \n",
    "                if is_terminal(state, grid_size=grid_size):\n",
    "                    continue\n",
    "                \n",
    "                state_value = 0\n",
    "                for action in policy[state]:\n",
    "                    next_state, reward = step(state, action, grid_size=grid_size)\n",
    "                    state_value += (1 / len(policy[state])) * (reward + gamma * V[next_state])\n",
    "                \n",
    "                new_V[i, j] = state_value\n",
    "                delta = max(delta, abs(V[i, j] - state_value))\n",
    "        \n",
    "        V = new_V\n",
    "        if delta < theta:\n",
    "            break\n",
    "    \n",
    "    return V"
   ]
  },
  {
   "cell_type": "markdown",
   "id": "295099a2-d16e-455b-84eb-ff2300a2a2d1",
   "metadata": {},
   "source": [
    "# Policy Improvement Loop"
   ]
  },
  {
   "cell_type": "code",
   "execution_count": 4,
   "id": "dc8e604e-714a-4a52-a97a-a21f7e7c5616",
   "metadata": {},
   "outputs": [],
   "source": [
    "def policy_improvement(policy, V, gamma, grid_size):\n",
    "    \"\"\"\n",
    "    Policy Improvement Loop\n",
    "    \"\"\"\n",
    "    \n",
    "    policy_stable = True\n",
    "    new_policy = {}\n",
    "    \n",
    "    for i in range(grid_size):\n",
    "        for j in range(grid_size):\n",
    "            state = (i, j)\n",
    "            \n",
    "            if is_terminal(state, grid_size):\n",
    "                continue\n",
    "            \n",
    "            best_action = None\n",
    "            best_value = float('-inf')\n",
    "            for action in actions:\n",
    "                next_state, reward = step(state, action, grid_size=grid_size)\n",
    "                value = reward + gamma * V[next_state]\n",
    "                if value > best_value:\n",
    "                    best_value = value\n",
    "                    best_action = action\n",
    "            \n",
    "            if policy[state] != [best_action]:\n",
    "                policy_stable = False\n",
    "            \n",
    "            new_policy[state] = [best_action]\n",
    "    \n",
    "    return new_policy, policy_stable"
   ]
  },
  {
   "cell_type": "code",
   "execution_count": 5,
   "id": "36c0af73-71b2-433c-9e7b-c826d0d9b3f3",
   "metadata": {},
   "outputs": [],
   "source": [
    "def policy_iteration(policy, grid_size=4, gamma=1.0, theta=1e-6):\n",
    "    \"\"\"\n",
    "    Policy Iteration Loop\n",
    "    \"\"\"\n",
    "\n",
    "    # Initialize state value function\n",
    "    state_value_function = np.zeros((grid_size, grid_size))\n",
    "    \n",
    "    n = 0\n",
    "    while True:\n",
    "        n += 1\n",
    "\n",
    "        # One step of policy evaluation\n",
    "        state_value_function = policy_evaluation(policy, state_value_function, gamma, theta, grid_size)\n",
    "        \n",
    "        # ... followed by one step of policy improvement\n",
    "        policy, stable = policy_improvement(policy, state_value_function, gamma, grid_size)\n",
    "        \n",
    "        if stable:\n",
    "            print(f'Done in {n} iterations')\n",
    "            return policy, state_value_function"
   ]
  },
  {
   "cell_type": "markdown",
   "id": "dfdd1b33-f97e-4458-9d1a-6f13b3e05a54",
   "metadata": {},
   "source": [
    "### Plot functions"
   ]
  },
  {
   "cell_type": "code",
   "execution_count": 6,
   "id": "0c733aff-cd27-4f3a-8250-38869c3d677f",
   "metadata": {},
   "outputs": [],
   "source": [
    "def plot_value_function(V, size=4):\n",
    "    plt.figure(figsize=(6, 6))\n",
    "    plt.imshow(V, cmap='coolwarm', interpolation='nearest')\n",
    "    for i in range(size):\n",
    "        for j in range(size):\n",
    "            plt.text(j, i, f\"{V[i, j]:.1f}\", ha='center', va='center', color='black')\n",
    "    plt.title(f\"State Value Function of Random Uniform Policy\")\n",
    "    plt.show()\n",
    "\n",
    "def plot_policy(policy, grid_size=4):\n",
    "    \"\"\"\n",
    "    Plots a given policy\n",
    "    \"\"\"\n",
    "\n",
    "    fig, ax = plt.subplots(figsize=(5, 5))\n",
    "    ax.set_xlim(-0.5, grid_size - 0.5)\n",
    "    ax.set_ylim(-0.5, grid_size - 0.5)\n",
    "    ax.set_xticks(np.arange(grid_size))\n",
    "    ax.set_yticks(np.arange(grid_size))\n",
    "    ax.set_xticks(np.arange(grid_size) - 0.5, minor=True)\n",
    "    ax.set_yticks(np.arange(grid_size) - 0.5, minor=True)\n",
    "    ax.grid(which='minor', color='black', linestyle='-', linewidth=3)\n",
    "    ax.tick_params(which='both', bottom=False, left=False, labelbottom=False, labelleft=False)\n",
    "    \n",
    "    action_arrows = {(-1, 0): \"↑\", (1, 0): \"↓\", (0, -1): \"←\", (0, 1): \"→\"}\n",
    "    for i in range(grid_size):\n",
    "        for j in range(grid_size):\n",
    "            if is_terminal((i, j), grid_size=grid_size):\n",
    "                ax.text(j, grid_size - 1 - i, \"T\", ha='center', va='center', fontsize=20, fontweight='bold')\n",
    "            else:\n",
    "                action = policy[(i, j)][0]\n",
    "                ax.text(j, grid_size - 1 - i, action_arrows[action], ha='center', va='center', fontsize=20)\n",
    "    \n",
    "    plt.show()"
   ]
  },
  {
   "cell_type": "markdown",
   "id": "fc2a1236-e1d1-479a-8394-f6583b69a547",
   "metadata": {},
   "source": [
    "# Policy Iteration"
   ]
  },
  {
   "cell_type": "code",
   "execution_count": 7,
   "id": "376e6258-12cf-4808-8075-8fceb167a066",
   "metadata": {},
   "outputs": [],
   "source": [
    "# Grid world parameters\n",
    "GRID_SIZE = 4\n",
    "\n",
    "# Action Space\n",
    "actions = (\n",
    "    (-1, 0),  # UP\n",
    "    (1, 0),   # DOWN\n",
    "    (0, -1),  # LEFT\n",
    "    (0, 1)    # RIGHT\n",
    ")\n",
    "\n",
    "# Discount factor\n",
    "GAMMA = 1.0 \n",
    "\n",
    "# Convergence threshold\n",
    "THETA = 1e-6"
   ]
  },
  {
   "cell_type": "code",
   "execution_count": 8,
   "id": "82ea645d-aa99-410c-b738-bcf950ba7f7e",
   "metadata": {},
   "outputs": [
    {
     "name": "stdout",
     "output_type": "stream",
     "text": [
      "Done in 3 iterations\n"
     ]
    },
    {
     "data": {
      "image/png": "[encoded data removed]",
      "text/plain": [
       "<Figure size 500x500 with 1 Axes>"
      ]
     },
     "metadata": {},
     "output_type": "display_data"
    }
   ],
   "source": [
    "# Uniform random policy\n",
    "uniform_random_policy = { \n",
    "    (i, j): actions \n",
    "    for i in range(GRID_SIZE) \n",
    "    for j in range(GRID_SIZE) \n",
    "    if not is_terminal((i, j), grid_size=GRID_SIZE) \n",
    "}\n",
    "\n",
    "optimal_policy, optimal_value_function = policy_iteration(\n",
    "    uniform_random_policy, \n",
    "    grid_size=GRID_SIZE,\n",
    "    gamma=GAMMA,\n",
    "    theta=THETA\n",
    ")\n",
    "\n",
    "# Plot the final policy\n",
    "plot_policy(optimal_policy, grid_size=GRID_SIZE)"
   ]
  },
  {
   "cell_type": "code",
   "execution_count": 9,
   "id": "cb49baa6-7f4d-4397-ad33-61cd8b5d0171",
   "metadata": {},
   "outputs": [
    {
     "data": {
      "image/png": "[encoded data removed]",
      "text/plain": [
       "<Figure size 600x600 with 1 Axes>"
      ]
     },
     "metadata": {},
     "output_type": "display_data"
    }
   ],
   "source": [
    "plot_value_function(optimal_value_function)"
   ]
  }
 ],
 "metadata": {
  "kernelspec": {
   "display_name": "Python 3 (ipykernel)",
   "language": "python",
   "name": "python3"
  },
  "language_info": {
   "codemirror_mode": {
    "name": "ipython",
    "version": 3
   },
   "file_extension": ".py",
   "mimetype": "text/x-python",
   "name": "python",
   "nbconvert_exporter": "python",
   "pygments_lexer": "ipython3",
   "version": "3.12.6"
  }
 },
 "nbformat": 4,
 "nbformat_minor": 5
}
